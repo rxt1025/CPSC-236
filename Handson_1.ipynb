{
 "cells": [
  {
   "cell_type": "markdown",
   "metadata": {},
   "source": [
    "## 2.1 Student Registration\n",
    "Create a program that allows a student to complete a registration form and displays a completion message that includes the user’s full name and a temporary password.\n",
    "\n",
    "### Console:\n",
    "```powershell\n",
    "Registration Form\n",
    "\n",
    "First Name: Eric\n",
    "Last Name: Idle\n",
    "Birth Year: 1934\n",
    "\n",
    "Welcome Eric Idle!\n",
    "Your registration is complete!\n",
    "Your temporary password is: Eric*1934\n",
    "```\n",
    "\n",
    "### Specifications:\n",
    "- The user’s full name consists of the user’s first name, a space, and the user’s last name.\n",
    "- The temporary password consists of the user’s first name, an asterisk (*), and the user’s birth year.\n",
    "- Assume the user will enter valid data.\n"
   ]
  },
  {
   "cell_type": "code",
   "execution_count": 3,
   "metadata": {},
   "outputs": [
    {
     "name": "stdout",
     "output_type": "stream",
     "text": [
      "Enter your first name: Eric\n",
      "Enter your last name: Idle\n",
      "Enter your birth year: 1934\n",
      "\n",
      "Registration Form\n",
      "\n",
      "First Name: Eric\n",
      "Last Name: Idle\n",
      "Birth Year: 1934\n",
      "\n",
      "Welcome Eric Idle!\n",
      "Your registration is complete!\n",
      "Your temporary password is: Eric*1934\n"
     ]
    }
   ],
   "source": [
    "first_name = input(\"Enter your first name: \")\n",
    "last_name = input(\"Enter your last name: \")\n",
    "birth_year = int(input(\"Enter your birth year: \"))\n",
    "\n",
    "print()\n",
    "print(\"Registration Form\")\n",
    "print()\n",
    "print(\"First Name: \" + first_name)\n",
    "print(\"Last Name: \" + last_name)\n",
    "print(\"Birth Year: \" + str(birth_year))\n",
    "print()\n",
    "print(\"Welcome \"+first_name+\" \"+last_name + \"!\")\n",
    "print(\"Your registration is complete!\")\n",
    "print(\"Your temporary password is: \"+ first_name+\"*\"+str(birth_year))"
   ]
  },
  {
   "cell_type": "markdown",
   "metadata": {},
   "source": [
    "## 2.2 - Pay Check Calculator\n",
    "Create a program that calculates a user’s weekly gross and take-home pay.\n",
    "\n",
    "### Console\n",
    "```powershell\n",
    "Pay Check Calculator\n",
    "\n",
    "Hours Worked: 35\n",
    "Hourly Pay Rate: 14.50\n",
    "\n",
    "Gross Pay: 507.5\n",
    "Tax Rate: 18%\n",
    "Tax Amount: 91.35\n",
    "Take Home Pay: 416.15\n",
    "```\n",
    "\n",
    "### Specifications:\n",
    "- The formula for calculating gross pay is:\n",
    "`gross pay = hours worked * hourly rate`\n",
    "- The formula for calculating tax amount is:\n",
    "`tax amount = gross pay * (tax rate / 100)`\n",
    "- The formula for calculating take home pay is:\n",
    "`take home pay = gross pay – tax amount`\n",
    "- The tax rate should be 18%, but the program should store the tax rate in a variable so that you can easily change the tax rate later, just by changing the value that’s stored in the variable.\n",
    "- The program should accept decimal entries like 35.5 and 14.25.\n",
    "- Assume the user will enter valid data.\n",
    "- The program should round the results to a maximum of two decimal places.\n"
   ]
  },
  {
   "cell_type": "code",
   "execution_count": 33,
   "metadata": {},
   "outputs": [
    {
     "name": "stdout",
     "output_type": "stream",
     "text": [
      "Enter how many hours the user worked: 35\n",
      "Enter hourly Pay Rate: 14.5\n",
      "\n",
      "Pay Check Calculator\n",
      "\n",
      "Hours Worked: 35\n",
      "Hourly Pay Rate: 14.5\n",
      "\n",
      "Gross Pay: 507.5\n",
      "Tax Rate: 18%\n",
      "Tax Amount: 91.35\n",
      "Take home Pay: 416.15\n"
     ]
    }
   ],
   "source": [
    "\n",
    "Hours = float(input(\"Enter how many hours the user worked: \"))\n",
    "Pay_Rate = float(input(\"Enter hourly Pay Rate: \"))\n",
    "tax_rate = 18\n",
    "\n",
    "gross_pay = Hours*Pay_Rate\n",
    "tax_amount = gross_pay * (tax_rate/100)\n",
    "Take_Home_Pay = gross_pay - tax_amount\n",
    "\n",
    "print()\n",
    "print(\"Pay Check Calculator\")\n",
    "print()\n",
    "print(\"Hours Worked:\", int(Hours))\n",
    "print(\"Hourly Pay Rate:\",round(Pay_Rate,2))\n",
    "print()\n",
    "print(\"Gross Pay:\",gross_pay)\n",
    "print(\"Tax Rate: \"+str(tax_rate)+\"%\")\n",
    "print(\"Tax Amount:\", tax_amount)\n",
    "print(\"Take home Pay:\",Take_Home_Pay)"
   ]
  },
  {
   "cell_type": "markdown",
   "metadata": {},
   "source": [
    "## 2.3 - Travel Time Calculator\n",
    "Create a program that calculates the estimated hours and minutes for a trip.\n",
    "\n",
    "### Console\n",
    "```powershell\n",
    "Travel Time Calculator\n",
    "\n",
    "Enter Miles: 200\n",
    "Enter Miles per Hour: 65\n",
    "\n",
    "Estimated Travel Time\n",
    "Hours: 3\n",
    "Minutes: 5\n",
    "```\n",
    "\n",
    "### Specifications\n",
    "- The program should only accept integer entries like 200 and 65.\n",
    "- Assume that the user will enter valid data.\n",
    "\n",
    "### Hint\n",
    "- Use integers with the integer division and modulus operators to get hours and minutes."
   ]
  },
  {
   "cell_type": "code",
   "execution_count": 1,
   "metadata": {},
   "outputs": [
    {
     "name": "stdout",
     "output_type": "stream",
     "text": [
      "Enter miles: 200\n",
      "Enter hours: 65\n",
      "\n",
      "Travel Time Calculator\n",
      "\n",
      "Enter Miles: 200\n",
      "Enter Miles per Hour: 65\n",
      "\n",
      "Estimated Travel Time\n",
      "Hours: 3\n",
      "Minutes: 5\n"
     ]
    }
   ],
   "source": [
    "x = int(input(\"Enter miles: \" ))\n",
    "y = int(input(\"Enter hours: \"))\n",
    "\n",
    "Hours = x//y\n",
    "Minutes = x%y\n",
    "print()\n",
    "print(\"Travel Time Calculator\")\n",
    "print()\n",
    "print(\"Enter Miles:\",x)\n",
    "print(\"Enter Miles per Hour:\",y)\n",
    "print()\n",
    "print(\"Estimated Travel Time\")\n",
    "print(\"Hours:\",Hours)\n",
    "print(\"Minutes:\",Minutes)\n"
   ]
  }
 ],
 "metadata": {
  "kernelspec": {
   "display_name": "Python 3 (ipykernel)",
   "language": "python",
   "name": "python3"
  },
  "language_info": {
   "codemirror_mode": {
    "name": "ipython",
    "version": 3
   },
   "file_extension": ".py",
   "mimetype": "text/x-python",
   "name": "python",
   "nbconvert_exporter": "python",
   "pygments_lexer": "ipython3",
   "version": "3.11.5"
  }
 },
 "nbformat": 4,
 "nbformat_minor": 2
}
